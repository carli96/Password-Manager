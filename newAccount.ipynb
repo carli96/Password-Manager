{
 "cells": [
  {
   "cell_type": "code",
   "execution_count": 1,
   "metadata": {},
   "outputs": [
    {
     "name": "stdout",
     "output_type": "stream",
     "text": [
      "Mac OS Version is 13.0 and patch enabled so applying the patch\n",
      "Applyting Mac OS 12.3+ Alpha Channel fix.  Your default Alpha Channel is now 0.99\n"
     ]
    },
    {
     "ename": "",
     "evalue": "",
     "output_type": "error",
     "traceback": [
      "\u001b[1;31mThe Kernel crashed while executing code in the the current cell or a previous cell. Please review the code in the cell(s) to identify a possible cause of the failure. Click <a href='https://aka.ms/vscodeJupyterKernelCrash'>here</a> for more info. View Jupyter <a href='command:jupyter.viewOutput'>log</a> for further details."
     ]
    }
   ],
   "source": [
    "import PySimpleGUI as sg\n",
    "import passGenerator, EncryptDecrypt\n",
    "\n",
    "\n",
    "password = \"\"\n",
    "\n",
    "#function to generate the new account window\n",
    "def manageWindow():\n",
    "    password = \"\"\n",
    "    sg.theme(\"DarkBlue\")\n",
    "    layout = [[sg.Text('WebPage')],\n",
    "              [sg.InputText(key='web')],\n",
    "              [sg.Text('User')],\n",
    "              [sg.InputText(key='user')],\n",
    "              [sg.Text('Password'), sg.Button(\"Show\", key='show')],\n",
    "              [sg.InputText(key='pass', password_char='*')],\n",
    "              [sg.Submit(), sg.Cancel(), sg.Button(\"Generate password\", key='generate')]]\n",
    "    window = sg.Window('Window Title', layout)\n",
    "    visible = False\n",
    "    while True:\n",
    "        event, values = window.read()\n",
    "        if event == sg.WIN_CLOSED or event == \"Cancel\":\n",
    "            break\n",
    "        if event == 'show':\n",
    "             if visible is False:\n",
    "                window['show'].update(\"Hide\")\n",
    "                window['pass'].update(password_char=\"\")\n",
    "                visible = True\n",
    "             else:\n",
    "                window['show'].update(\"Show\")\n",
    "                window['pass'].update(password_char=\"*\")\n",
    "                visible = False\n",
    "        if event == 'generate':\n",
    "            open_passGenerator_window()\n",
    "            if password != \"\":\n",
    "                passwordToSave = EncryptDecrypt.encryptPass(password)[0]\n",
    "                #TODO Guardar de alguna forma el password\n",
    "                window['pass'].update(\"*******\")\n",
    "        if event == 'Submit':\n",
    "            if(values[\"user\"] != \"\" and values[\"pass\"] != \"\" and values[\"web\"] != \"\"):\n",
    "                #Enviar al server\n",
    "                #Mostrarlo en la lista\n",
    "                window.close()\n",
    "                return [values[\"user\"],values[\"pass\"],values[\"web\"]]\n",
    "            else:\n",
    "               sg.popup_auto_close('Please fill the blanks')\n",
    "    window.close()\n",
    "\n",
    "#function to manage the pass generator\n",
    "def open_passGenerator_window():\n",
    "    sg.theme(\"DarkBlue\")\n",
    "    layout = [[sg.Text(\"Length\", key=\"new\")],\n",
    "              [sg.Slider(range=(7, 20), default_value=10,\n",
    "               expand_x=True, enable_events=True,\n",
    "                         orientation='horizontal', key='-SL-')],\n",
    "              [sg.Text(\"Numbers\", key=\"tx_numbers\")],\n",
    "              [sg.Checkbox('', key=\"n_numbers\", default=True)],\n",
    "              [sg.Text(\"Capital letters\", key=\"tx_cp\")],\n",
    "              [sg.Checkbox('', key=\"cl\", default=True)],\n",
    "              [sg.Text(\"Special characters\", key=\"tx_sp\")],\n",
    "              [sg.Checkbox('', key=\"sp\", default=True)],\n",
    "              [sg.Submit(), sg.Cancel()]]\n",
    "    window = sg.Window(\"PasswordGenerator\", layout, modal=True, no_titlebar=True)\n",
    "    while True:\n",
    "        event, values = window.read()\n",
    "        if values is not None:\n",
    "            passWordLength = values['-SL-']\n",
    "            n_numbers = values[\"n_numbers\"]\n",
    "            cl = values[\"cl\"]\n",
    "            sp = values[\"sp\"]\n",
    "        \n",
    "        if event == \"Exit\" or event == \"Cancel\":\n",
    "            break\n",
    "        if event == \"Submit\":\n",
    "            global password \n",
    "            password = passGenerator.generatePassword(int(passWordLength),\n",
    "                                                        int(passWordLength)/3 if cl else 0,\n",
    "                                                        int(passWordLength)/3 if n_numbers else 0,\n",
    "                                                        int(passWordLength)/3 if sp else 0)\n",
    "            break\n",
    "\n",
    "    window.close()\n",
    "\n",
    "\n",
    "if __name__ == '__main__':\n",
    "    manageWindow()\n",
    "\n"
   ]
  }
 ],
 "metadata": {
  "kernelspec": {
   "display_name": "Python 3.10.2 64-bit",
   "language": "python",
   "name": "python3"
  },
  "language_info": {
   "codemirror_mode": {
    "name": "ipython",
    "version": 3
   },
   "file_extension": ".py",
   "mimetype": "text/x-python",
   "name": "python",
   "nbconvert_exporter": "python",
   "pygments_lexer": "ipython3",
   "version": "3.9.12"
  },
  "orig_nbformat": 4,
  "vscode": {
   "interpreter": {
    "hash": "949777d72b0d2535278d3dc13498b2535136f6dfe0678499012e853ee9abcab1"
   }
  }
 },
 "nbformat": 4,
 "nbformat_minor": 2
}
