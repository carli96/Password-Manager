{
 "cells": [
  {
   "cell_type": "code",
   "execution_count": null,
   "metadata": {},
   "outputs": [],
   "source": [
    "import PySimpleGUI as sg\n",
    "import passGeneratorWindow, encryptDecrypt\n",
    "\n",
    "#function to generate the new account window\n",
    "def manageWindow():\n",
    "    sg.theme(\"DarkBlue\")\n",
    "    layout = [[sg.Text('WebPage')],\n",
    "              [sg.InputText(key='web')],\n",
    "              [sg.Text('User')],\n",
    "              [sg.InputText(key='user')],\n",
    "              [sg.Text('Password'), sg.Button(\"Show\", key='show')],\n",
    "              [sg.InputText(key='pass', password_char='*')],\n",
    "              [sg.Submit(), sg.Cancel(), sg.Button(\"Generate password\", key='generate')]]\n",
    "    window = sg.Window('Window Title', layout)\n",
    "    visible = False\n",
    "    while True:\n",
    "        event, values = window.read()\n",
    "        if event == sg.WIN_CLOSED or event == \"Cancel\":\n",
    "            break\n",
    "        # Hides and show the password just written\n",
    "        if event == 'show':\n",
    "             if visible is False:\n",
    "                window['show'].update(\"Hide\")\n",
    "                window['pass'].update(password_char=\"\")\n",
    "                visible = True\n",
    "             else:\n",
    "                window['show'].update(\"Show\")\n",
    "                window['pass'].update(password_char=\"*\")\n",
    "                visible = False\n",
    "        # Generates the password\n",
    "        if event == 'generate':\n",
    "            password = passGeneratorWindow.manageWindow()\n",
    "            if password != \"\":\n",
    "                window['pass'].update(password, password_char=\"*\")\n",
    "        # Submits the password\n",
    "        if event == 'Submit':\n",
    "            if(values[\"user\"] != \"\" and values[\"pass\"] != \"\" and values[\"web\"] != \"\"):\n",
    "                window.close()\n",
    "                return [values[\"user\"],values[\"pass\"],values[\"web\"]]\n",
    "            else:\n",
    "               sg.popup_auto_close('Please fill the blanks')\n",
    "    window.close()"
   ]
  }
 ],
 "metadata": {
  "kernelspec": {
   "display_name": "Python 3.10.2 64-bit",
   "language": "python",
   "name": "python3"
  },
  "language_info": {
   "codemirror_mode": {
    "name": "ipython",
    "version": 3
   },
   "file_extension": ".py",
   "mimetype": "text/x-python",
   "name": "python",
   "nbconvert_exporter": "python",
   "pygments_lexer": "ipython3",
   "version": "3.9.12"
  },
  "orig_nbformat": 4,
  "vscode": {
   "interpreter": {
    "hash": "949777d72b0d2535278d3dc13498b2535136f6dfe0678499012e853ee9abcab1"
   }
  }
 },
 "nbformat": 4,
 "nbformat_minor": 2
}
