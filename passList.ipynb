{
 "cells": [
  {
   "cell_type": "code",
   "execution_count": 1,
   "metadata": {},
   "outputs": [
    {
     "name": "stdout",
     "output_type": "stream",
     "text": [
      "Mac OS Version is 13.0 and patch enabled so applying the patch\n",
      "Applyting Mac OS 12.3+ Alpha Channel fix.  Your default Alpha Channel is now 0.99\n",
      "['carli', '12345', 'facebook']\n",
      "12345\n"
     ]
    },
    {
     "ename": "",
     "evalue": "",
     "output_type": "error",
     "traceback": [
      "\u001b[1;31mThe Kernel crashed while executing code in the the current cell or a previous cell. Please review the code in the cell(s) to identify a possible cause of the failure. Click <a href='https://aka.ms/vscodeJupyterKernelCrash'>here</a> for more info. View Jupyter <a href='command:jupyter.viewOutput'>log</a> for further details."
     ]
    },
    {
     "ename": "",
     "evalue": "",
     "output_type": "error",
     "traceback": [
      "\u001b[1;31mCanceled future for execute_request message before replies were done"
     ]
    }
   ],
   "source": [
    "import PySimpleGUI as sg\n",
    "from nbimporter import NotebookLoader\n",
    "import existingAccount, dataBaseUtil, EncryptDecrypt, json, base64\n",
    "\n",
    "def manageDataLoaded(dataLoaded):\n",
    "    toReturn = []\n",
    "    for item in dataLoaded:\n",
    "        toReturn.append(item['web'])\n",
    "    return toReturn\n",
    "    \n",
    "def storeNewAccount(newAccount,userId):\n",
    "    web = newAccount[2]\n",
    "    passToEncrypt = newAccount[1]\n",
    "    user = newAccount[0]\n",
    "    decryptionResult = EncryptDecrypt.encryptPass(passToEncrypt)\n",
    "    toStoreInServer = decryptionResult[1]\n",
    "    encryptedPass = decryptionResult[0]\n",
    "    IV, HashedKey, privateKey = toStoreInServer\n",
    "    id = dataBaseUtil.insert(userId, web, privateKey, HashedKey, IV )\n",
    "    save_to_json(base64.b64encode(encryptedPass).decode(\"utf-8\"), user, web, id, \"accounts.json\")\n",
    "\n",
    "def recoverAccount(data, valuesLoadedFromDB):\n",
    "    id, user, web, encryptedPass = data['id'], data['user'], data['web'], data['encryptedPass']\n",
    "    encryptedKey,hashedKey,IV = \"\",\"\",\"\"\n",
    "    for item in valuesLoadedFromDB:\n",
    "        if(str(item[\"_id\"]) == id):\n",
    "            print(item)\n",
    "            encryptedKey, hashedKey, IV= item[\"EncryptedKey\"],item[\"HashedKey\"],item[\"IV\"]\n",
    "    passw = EncryptDecrypt.decryptPass(base64.b64decode(encryptedPass), IV, hashedKey, encryptedKey)\n",
    "    return [user, passw, web]\n",
    "\n",
    "def save_to_json(encryptedPass, user, web, id, filename):\n",
    "    data = {'id': id, 'user': user, 'web': web, 'encryptedPass':encryptedPass}\n",
    "    with open(filename, 'r') as f:\n",
    "        data_list = json.load(f)\n",
    "    data_list.append(data)\n",
    "\n",
    "    with open(filename, 'w') as f:\n",
    "        json.dump(data_list, f, indent = 4)\n",
    "\n",
    "\n",
    "\n",
    "def read_json(position):\n",
    "    with open(\"accounts.json\") as f:\n",
    "        data = json.load(f)\n",
    "    \n",
    "    if position < 0 or position >= len(data):\n",
    "        raise ValueError(f\"The position has to be in range [0, {len(data) - 1}].\")\n",
    "    \n",
    "    return data[position]\n",
    "\n",
    "\n",
    "#function to manage the password list\n",
    "def manageWindow(userId):\n",
    "    valuesLoadedFromDB = dataBaseUtil.searchByUserID(userId) if dataBaseUtil.searchByUserID(userId) != [\"newUser\"] else [\"Add new passwords :)\"]\n",
    "    valuesToShow = manageDataLoaded(valuesLoadedFromDB)\n",
    "\n",
    "    # Define the layout of the window\n",
    "    sg.theme(\"DarkBlue\")\n",
    "    layout = [\n",
    "        [sg.Listbox(values=valuesToShow, enable_events=True, size=(50, 10), key=\"list\")],\n",
    "        [sg.Button(\"New entry\")]\n",
    "    ]\n",
    "\n",
    "    # Create window\n",
    "    window = sg.Window(\"Passwords stored\", layout)\n",
    "\n",
    "    # Manage window\n",
    "    while True:\n",
    "        event, values = window.read()\n",
    "        # If new entry is pressed...\n",
    "        if event == \"New entry\":\n",
    "            # Open the window to store new accounts\n",
    "            newAccountWindow = NotebookLoader().load_module('newAccount')\n",
    "            arrayNewEntry = newAccountWindow.manageWindow()\n",
    "            # If the new element is added we show it in the list\n",
    "            if arrayNewEntry is not None and arrayNewEntry != \"\":\n",
    "                storeNewAccount(arrayNewEntry, userId)\n",
    "                valuesToShow.append(arrayNewEntry[2])\n",
    "                window[\"list\"].update(values=valuesToShow)\n",
    "        if values is not None and event == \"list\":\n",
    "            listbox = window['list']\n",
    "            data = read_json(listbox.get_indexes()[0])\n",
    "            recoverAccount(data, valuesLoadedFromDB)\n",
    "            #existingAccount.manageWindow(recoverAccount(data, valuesLoadedFromDB))\n",
    "        # If the window is closed end the execution\n",
    "        if event == sg.WINDOW_CLOSED:\n",
    "            break\n",
    "\n",
    "    # Cerramos la ventana\n",
    "    window.close()\n",
    "\n",
    "#TODO FUNCIÓN QUE RECIBA VALORES Y LOS COLOQUE EN LA LISTA\n",
    "\n",
    "if __name__ == '__main__':\n",
    "    manageWindow(\"juan\")\n",
    "\n"
   ]
  }
 ],
 "metadata": {
  "kernelspec": {
   "display_name": "Python 3.10.2 64-bit",
   "language": "python",
   "name": "python3"
  },
  "language_info": {
   "codemirror_mode": {
    "name": "ipython",
    "version": 3
   },
   "file_extension": ".py",
   "mimetype": "text/x-python",
   "name": "python",
   "nbconvert_exporter": "python",
   "pygments_lexer": "ipython3",
   "version": "3.9.12"
  },
  "orig_nbformat": 4,
  "vscode": {
   "interpreter": {
    "hash": "949777d72b0d2535278d3dc13498b2535136f6dfe0678499012e853ee9abcab1"
   }
  }
 },
 "nbformat": 4,
 "nbformat_minor": 2
}
