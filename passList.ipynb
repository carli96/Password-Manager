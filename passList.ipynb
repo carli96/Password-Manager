{
 "cells": [
  {
   "cell_type": "code",
   "execution_count": 1,
   "metadata": {},
   "outputs": [
    {
     "name": "stdout",
     "output_type": "stream",
     "text": [
      "Mac OS Version is 13.0 and patch enabled so applying the patch\n",
      "Applyting Mac OS 12.3+ Alpha Channel fix.  Your default Alpha Channel is now 0.99\n",
      "['carli', '12345', 'facebook']\n",
      "12345\n"
     ]
    },
    {
     "ename": "",
     "evalue": "",
     "output_type": "error",
     "traceback": [
      "\u001b[1;31mThe Kernel crashed while executing code in the the current cell or a previous cell. Please review the code in the cell(s) to identify a possible cause of the failure. Click <a href='https://aka.ms/vscodeJupyterKernelCrash'>here</a> for more info. View Jupyter <a href='command:jupyter.viewOutput'>log</a> for further details."
     ]
    },
    {
     "ename": "",
     "evalue": "",
     "output_type": "error",
     "traceback": [
      "\u001b[1;31mCanceled future for execute_request message before replies were done"
     ]
    }
   ],
   "source": [
    "import PySimpleGUI as sg\n",
    "from nbimporter import NotebookLoader\n",
    "import existingAccount\n",
    "\n",
    "\n",
    "#function to manage the password list\n",
    "def manageWindow():\n",
    "    valuesToShow = []\n",
    "    valuesToStore = []\n",
    "    # Define the layout of the window\n",
    "    sg.theme(\"DarkBlue\")\n",
    "    layout = [\n",
    "        [sg.Listbox(values=\"\", enable_events=True, size=(50, 10), key=\"list\")],\n",
    "        [sg.Button(\"New entry\")]\n",
    "    ]\n",
    "\n",
    "    # Create window\n",
    "    window = sg.Window(\"Passwords stored\", layout)\n",
    "\n",
    "    # Manage window\n",
    "    while True:\n",
    "        event, values = window.read()\n",
    "        # If new entry is pressed...\n",
    "        if event == \"New entry\":\n",
    "            # Open the window to store new accounts\n",
    "            newAccountWindow = NotebookLoader().load_module('newAccount')\n",
    "            arrayNewEntry = newAccountWindow.manageWindow()\n",
    "            # If the new element is added we show it in the list\n",
    "            if arrayNewEntry is not None and arrayNewEntry != \"\":\n",
    "                valuesToShow.append(arrayNewEntry[2])\n",
    "                valuesToStore.append(arrayNewEntry)\n",
    "                window[\"list\"].update(values=valuesToShow)\n",
    "                print(arrayNewEntry)\n",
    "                print(arrayNewEntry[1])\n",
    "        if values is not None and event == \"list\":\n",
    "            existingAccount.window(arrayNewEntry[0], arrayNewEntry[1], arrayNewEntry[2])\n",
    "        # If the window is closed end the execution\n",
    "        if event == sg.WINDOW_CLOSED:\n",
    "            break\n",
    "\n",
    "    # Cerramos la ventana\n",
    "    window.close()\n",
    "\n",
    "#TODO FUNCIÓN QUE RECIBA VALORES Y LOS COLOQUE EN LA LISTA\n",
    "\n",
    "if __name__ == '__main__':\n",
    "    manageWindow()\n",
    "\n"
   ]
  }
 ],
 "metadata": {
  "kernelspec": {
   "display_name": "Python 3.10.2 64-bit",
   "language": "python",
   "name": "python3"
  },
  "language_info": {
   "codemirror_mode": {
    "name": "ipython",
    "version": 3
   },
   "file_extension": ".py",
   "mimetype": "text/x-python",
   "name": "python",
   "nbconvert_exporter": "python",
   "pygments_lexer": "ipython3",
   "version": "3.10.2"
  },
  "orig_nbformat": 4,
  "vscode": {
   "interpreter": {
    "hash": "949777d72b0d2535278d3dc13498b2535136f6dfe0678499012e853ee9abcab1"
   }
  }
 },
 "nbformat": 4,
 "nbformat_minor": 2
}
