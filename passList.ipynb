{
 "cells": [
  {
   "cell_type": "code",
   "execution_count": 3,
   "metadata": {},
   "outputs": [
    {
     "name": "stdout",
     "output_type": "stream",
     "text": [
      "Submit {'web': 'scdwc', 'user': 'qqq', 'pass': 'aaaa'}\n",
      "Submit {'web': 'google', 'user': 'luis', 'pass': 'patata'}\n"
     ]
    }
   ],
   "source": [
    "import PySimpleGUI as sg\n",
    "from nbimporter import NotebookLoader\n",
    "\n",
    "#function to manage the password list\n",
    "def manageWindow():\n",
    "    valuesToShow = []\n",
    "    valuesToStore = []\n",
    "    # Define the layout of the window\n",
    "    sg.theme(\"DarkBlue\")\n",
    "    layout = [\n",
    "        [sg.Listbox(values=\"\", size=(50, 10), key=\"list\")],\n",
    "        [sg.Button(\"New entry\")]\n",
    "    ]\n",
    "\n",
    "    # Create window\n",
    "    window = sg.Window(\"Passwords stored\", layout)\n",
    "\n",
    "    # Manage window\n",
    "    while True:\n",
    "        event, values = window.read()\n",
    "        # If new entry is pressed...\n",
    "        if event == \"New entry\":\n",
    "            # Open the window to store new accounts\n",
    "            newAccountWindow = NotebookLoader().load_module('newAccount')\n",
    "            arrayNewEntry = newAccountWindow.manageWindow()\n",
    "            # If the new element is added we show it in the list\n",
    "            if arrayNewEntry is not None and arrayNewEntry != \"\":\n",
    "                valuesToShow.append(arrayNewEntry[2])\n",
    "                valuesToStore.append(arrayNewEntry)\n",
    "                window[\"list\"].update(values=valuesToShow)\n",
    "        # If the window is closed end the execution\n",
    "        if event == sg.WINDOW_CLOSED:\n",
    "            break\n",
    "\n",
    "    # Cerramos la ventana\n",
    "    window.close()\n",
    "\n",
    "#TODO FUNCIÓN QUE RECIBA VALORES Y LOS COLOQUE EN LA LISTA\n",
    "\n",
    "if __name__ == '__main__':\n",
    "    manageWindow()\n",
    "\n"
   ]
  }
 ],
 "metadata": {
  "kernelspec": {
   "display_name": "Python 3.10.2 64-bit",
   "language": "python",
   "name": "python3"
  },
  "language_info": {
   "codemirror_mode": {
    "name": "ipython",
    "version": 3
   },
   "file_extension": ".py",
   "mimetype": "text/x-python",
   "name": "python",
   "nbconvert_exporter": "python",
   "pygments_lexer": "ipython3",
   "version": "3.10.2"
  },
  "orig_nbformat": 4,
  "vscode": {
   "interpreter": {
    "hash": "949777d72b0d2535278d3dc13498b2535136f6dfe0678499012e853ee9abcab1"
   }
  }
 },
 "nbformat": 4,
 "nbformat_minor": 2
}
