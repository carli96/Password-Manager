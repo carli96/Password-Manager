{
 "cells": [
  {
   "cell_type": "code",
   "execution_count": 2,
   "metadata": {},
   "outputs": [
    {
     "name": "stdout",
     "output_type": "stream",
     "text": [
      "Cancel {'web': '', 'user': '', 'pass': ''}\n",
      "Cancel {'web': '', 'user': '', 'pass': ''}\n",
      "Cancel {'web': '', 'user': '', 'pass': ''}\n",
      "Cancel {'web': '', 'user': '', 'pass': ''}\n",
      "Cancel {'web': '', 'user': '', 'pass': ''}\n",
      "Cancel {'web': '', 'user': '', 'pass': ''}\n",
      "Cancel {'web': '', 'user': '', 'pass': ''}\n",
      "None None\n"
     ]
    }
   ],
   "source": [
    "import PySimpleGUI as sg\n",
    "from nbimporter import NotebookLoader\n",
    "\n",
    "newAccountWindow = NotebookLoader().load_module('newAccount')\n",
    "valuesToShow = []\n",
    "def manageWindow():\n",
    "    # Definimos el layout de la ventana\n",
    "    layout = [\n",
    "        [sg.Listbox(values=valuesToShow, size=(50, 10), key=\"list\")],\n",
    "        [sg.Button(\"New entry\")]\n",
    "    ]\n",
    "\n",
    "    # Creamos la ventana\n",
    "    window = sg.Window(\"Passwords stored\", layout)\n",
    "\n",
    "    # Creamos una lista vacía para almacenar los elementos agregados\n",
    "    items = []\n",
    "\n",
    "    # Iniciamos el loop para leer los eventos de la ventana\n",
    "    while True:\n",
    "        event, values = window.read()\n",
    "        # Si se presiona el botón \"new entry\"\n",
    "        if event == \"New entry\":\n",
    "            # Abrimos una nueva ventana para ingresar el nuevo elemento\n",
    "            arrayNewEntry = newAccountWindow.manageWindow()\n",
    "            # Si se ingresó un valor, lo agregamos a la lista y actualizamos la lista en la ventana\n",
    "            if arrayNewEntry is not None and arrayNewEntry != \"\":\n",
    "                items.append(arrayNewEntry)\n",
    "                window[\"list\"].update(values=items)\n",
    "        # Si se cierra la ventana, cerramos el loop\n",
    "        if event == sg.WINDOW_CLOSED:\n",
    "            break\n",
    "\n",
    "    # Cerramos la ventana\n",
    "    window.close()\n",
    "\n",
    "#TODO FUNCIÓN QUE RECIBA VALORES Y LOS COLOQUE EN LA LISTA\n",
    "if __name__ == '__main__':\n",
    "    manageWindow()\n"
   ]
  }
 ],
 "metadata": {
  "kernelspec": {
   "display_name": "base",
   "language": "python",
   "name": "python3"
  },
  "language_info": {
   "codemirror_mode": {
    "name": "ipython",
    "version": 3
   },
   "file_extension": ".py",
   "mimetype": "text/x-python",
   "name": "python",
   "nbconvert_exporter": "python",
   "pygments_lexer": "ipython3",
   "version": "3.9.12"
  },
  "orig_nbformat": 4,
  "vscode": {
   "interpreter": {
    "hash": "c52da4db0cc24982f172e6f7976463ee5edeec35eac07f0e6ceac694ec92108f"
   }
  }
 },
 "nbformat": 4,
 "nbformat_minor": 2
}
