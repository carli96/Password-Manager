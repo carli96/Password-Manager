{
 "cells": [
  {
   "cell_type": "code",
   "execution_count": null,
   "metadata": {},
   "outputs": [
    {
     "ename": "",
     "evalue": "",
     "output_type": "error",
     "traceback": [
      "\u001b[1;31mCanceled future for execute_request message before replies were done"
     ]
    },
    {
     "ename": "",
     "evalue": "",
     "output_type": "error",
     "traceback": [
      "\u001b[1;31mEl Kernel se bloqueó al ejecutar código en la celda actual o en una celda anterior. Revise el código de las celdas para identificar una posible causa del error. Haga clic <a href='https://aka.ms/vscodeJupyterKernelCrash'>aquí</a> para obtener más información. Vea el [registro] de Jupyter (command:jupyter.viewOutput) para obtener más detalles."
     ]
    }
   ],
   "source": [
    "import PySimpleGUI as sg\n",
    "from nbimporter import NotebookLoader\n",
    "\n",
    "#function to manage the password list\n",
    "def manageWindow():\n",
    "    valuesToShow = []\n",
    "    valuesToStore = []\n",
    "    # Define the layout of the window\n",
    "    sg.theme(\"DarkBlue\")\n",
    "    layout = [\n",
    "        [sg.Listbox(values=\"valuesToShow\", size=(50, 10), key=\"list\")],\n",
    "        [sg.Button(\"New entry\")]\n",
    "    ]\n",
    "\n",
    "    # Create window\n",
    "    window = sg.Window(\"Passwords stored\", layout)\n",
    "\n",
    "    # Manage window\n",
    "    while True:\n",
    "        event, values = window.read()\n",
    "        # If new entry is pressed...\n",
    "        if event == \"New entry\":\n",
    "            # Open the window to store new accounts\n",
    "            newAccountWindow = NotebookLoader().load_module('newAccount')\n",
    "            arrayNewEntry = newAccountWindow.manageWindow()\n",
    "            # If the new element is added we show it in the list\n",
    "            if arrayNewEntry is not None and arrayNewEntry != \"\":\n",
    "                valuesToShow.append(arrayNewEntry[2])\n",
    "                valuesToStore.append(arrayNewEntry)\n",
    "                window[\"list\"].update(values=valuesToShow)\n",
    "        # If the window is closed end the execution\n",
    "        if event == sg.WINDOW_CLOSED:\n",
    "            break\n",
    "\n",
    "    # Cerramos la ventana\n",
    "    window.close()\n",
    "\n",
    "#TODO FUNCIÓN QUE RECIBA VALORES Y LOS COLOQUE EN LA LISTA\n",
    "'''\n",
    "if __name__ == '__main__':\n",
    "    manageWindow()\n",
    "'''\n"
   ]
  }
 ],
 "metadata": {
  "kernelspec": {
   "display_name": "base",
   "language": "python",
   "name": "python3"
  },
  "language_info": {
   "codemirror_mode": {
    "name": "ipython",
    "version": 3
   },
   "file_extension": ".py",
   "mimetype": "text/x-python",
   "name": "python",
   "nbconvert_exporter": "python",
   "pygments_lexer": "ipython3",
   "version": "3.9.12"
  },
  "orig_nbformat": 4,
  "vscode": {
   "interpreter": {
    "hash": "c52da4db0cc24982f172e6f7976463ee5edeec35eac07f0e6ceac694ec92108f"
   }
  }
 },
 "nbformat": 4,
 "nbformat_minor": 2
}
